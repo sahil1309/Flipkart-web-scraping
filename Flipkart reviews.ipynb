{
 "cells": [
  {
   "cell_type": "code",
   "execution_count": 1,
   "metadata": {},
   "outputs": [],
   "source": [
    "import pandas as pd\n",
    "import numpy as np"
   ]
  },
  {
   "cell_type": "code",
   "execution_count": 2,
   "metadata": {},
   "outputs": [],
   "source": [
    "from time import sleep\n",
    "from random import random\n",
    "import requests\n",
    "from tqdm.notebook import tqdm\n",
    "from bs4 import BeautifulSoup\n",
    "from urllib.parse import urljoin\n",
    "import urllib.parse as urlparse\n",
    "from urllib.parse import parse_qs"
   ]
  },
  {
   "cell_type": "code",
   "execution_count": 3,
   "metadata": {},
   "outputs": [],
   "source": [
    "BASE_URL = 'https://www.flipkart.com/'\n",
    "SEARCH_QUERY = \"mobiles\"\n",
    "TOP_N_PRODUCTS = 5\n",
    "REVIEW_PAGES_TO_SCRAPE_FROM_PER_PRODUCT = 50"
   ]
  },
  {
   "cell_type": "code",
   "execution_count": 4,
   "metadata": {},
   "outputs": [],
   "source": [
    "def get_popular_product_s_titles_and_urls(search_query, popular_products_count_limit):\n",
    "    \n",
    "    search_url = f\"{BASE_URL}search?q={search_query}&otracker=categorytree&sort=price_desc\"\n",
    "    search_response = requests.get(search_url)\n",
    "    \n",
    "    search_html_soup = BeautifulSoup(search_response.content, 'html.parser')\n",
    "    search_results_products = search_html_soup.find_all('div',attrs={\"class\":\"_2kHMtA\"})\n",
    "    \n",
    "    product_titles, product_urls = [],[]\n",
    "    \n",
    "    product_count = 0\n",
    "    \n",
    "    for product in tqdm(search_results_products, desc=\"Search Results Iteration\", position=0, leave=True):\n",
    "        title_mention_subrow = product.find(\"a\", attrs={\"class\":\"_1fQZEK\"})\n",
    "        products=product.find(\"div\",attrs={\"class\":\"_4rR01T\"})\n",
    "        product_titles.append(products.get_text())\n",
    "        product_relative_url = title_mention_subrow[\"href\"]\n",
    "        product_url = urljoin(BASE_URL,product_relative_url)\n",
    "            \n",
    "        parsed_url = urlparse.urlparse(product_url)\n",
    "        parsed_url_path = parsed_url.path\n",
    "        parsed_url_path_split = parsed_url_path.split(\"/\")\n",
    "        parsed_url_path_split[2] = \"product-reviews\"\n",
    "        parsed_url_path_modified = \"/\".join(parsed_url_path_split)\n",
    "        parsed_url_modified = parsed_url._replace(path=parsed_url_path_modified)\n",
    "        product_url = parsed_url_modified.geturl()\n",
    "            \n",
    "        \n",
    "        product_urls.append(product_url)\n",
    "            \n",
    "        product_count += 1\n",
    "            \n",
    "        if popular_products_count_limit and (product_count >= popular_products_count_limit):\n",
    "            break\n",
    "    return product_titles, product_urls"
   ]
  },
  {
   "cell_type": "code",
   "execution_count": 5,
   "metadata": {},
   "outputs": [
    {
     "data": {
      "application/vnd.jupyter.widget-view+json": {
       "model_id": "64e7bcd9dd654ac79ca4d828243250a2",
       "version_major": 2,
       "version_minor": 0
      },
      "text/plain": [
       "Search Results Iteration:   0%|          | 0/24 [00:00<?, ?it/s]"
      ]
     },
     "metadata": {},
     "output_type": "display_data"
    }
   ],
   "source": [
    "product_titles,product_urls = get_popular_product_s_titles_and_urls(SEARCH_QUERY, TOP_N_PRODUCTS);"
   ]
  },
  {
   "cell_type": "code",
   "execution_count": 6,
   "metadata": {},
   "outputs": [
    {
     "name": "stdout",
     "output_type": "stream",
     "text": [
      "+------------+--------------------+---------+-----------------------+\n",
      "| # Products | # Reviews Per Page | # Pages | # Total Reviews Count |\n",
      "+------------+--------------------+---------+-----------------------+\n",
      "|     5      |         10         |    50   |          2500         |\n",
      "+------------+--------------------+---------+-----------------------+\n"
     ]
    }
   ],
   "source": [
    "from prettytable import PrettyTable\n",
    "x = PrettyTable()\n",
    "x.field_names = [\"# Products\", \"# Reviews Per Page\", \"# Pages\", \"# Total Reviews Count\"]\n",
    "x.add_row([len(product_urls), 10, REVIEW_PAGES_TO_SCRAPE_FROM_PER_PRODUCT, len(product_urls)*10*REVIEW_PAGES_TO_SCRAPE_FROM_PER_PRODUCT])\n",
    "print(x)"
   ]
  },
  {
   "cell_type": "code",
   "execution_count": 7,
   "metadata": {},
   "outputs": [
    {
     "data": {
      "application/vnd.jupyter.widget-view+json": {
       "model_id": "a11cce24ed8f47ac9776a2cc03ef37bf",
       "version_major": 2,
       "version_minor": 0
      },
      "text/plain": [
       "products:   0%|          | 0/5 [00:00<?, ?it/s]"
      ]
     },
     "metadata": {},
     "output_type": "display_data"
    },
    {
     "data": {
      "application/vnd.jupyter.widget-view+json": {
       "model_id": "",
       "version_major": 2,
       "version_minor": 0
      },
      "text/plain": [
       "review pages:   0%|          | 0/50 [00:00<?, ?it/s]"
      ]
     },
     "metadata": {},
     "output_type": "display_data"
    },
    {
     "data": {
      "application/vnd.jupyter.widget-view+json": {
       "model_id": "",
       "version_major": 2,
       "version_minor": 0
      },
      "text/plain": [
       "review pages:   0%|          | 0/50 [00:00<?, ?it/s]"
      ]
     },
     "metadata": {},
     "output_type": "display_data"
    },
    {
     "data": {
      "application/vnd.jupyter.widget-view+json": {
       "model_id": "",
       "version_major": 2,
       "version_minor": 0
      },
      "text/plain": [
       "review pages:   0%|          | 0/50 [00:00<?, ?it/s]"
      ]
     },
     "metadata": {},
     "output_type": "display_data"
    },
    {
     "data": {
      "application/vnd.jupyter.widget-view+json": {
       "model_id": "",
       "version_major": 2,
       "version_minor": 0
      },
      "text/plain": [
       "review pages:   0%|          | 0/50 [00:00<?, ?it/s]"
      ]
     },
     "metadata": {},
     "output_type": "display_data"
    },
    {
     "data": {
      "application/vnd.jupyter.widget-view+json": {
       "model_id": "",
       "version_major": 2,
       "version_minor": 0
      },
      "text/plain": [
       "review pages:   0%|          | 0/50 [00:00<?, ?it/s]"
      ]
     },
     "metadata": {},
     "output_type": "display_data"
    }
   ],
   "source": [
    "dataset = []\n",
    "\n",
    "for idx, url in enumerate(tqdm(product_urls, desc='products')):\n",
    "    # iterating over review pages\n",
    "    for i in tqdm(range(1,REVIEW_PAGES_TO_SCRAPE_FROM_PER_PRODUCT+1), desc=\"review pages\", position=0, leave=False):\n",
    "        parsed=urlparse.urlparse(url)\n",
    "        pid=parse_qs(parsed.query)['pid'][0]\n",
    "        URL=f\"{url}&page={i}\"\n",
    "        \n",
    "        r=requests.get(URL)\n",
    "        \n",
    "        # Pause the loop for 0-1 seconds to simulate natural setting not overwhelm the server with back to back requests without any pause\n",
    "        sleep=(2)\n",
    "        \n",
    "        soup=BeautifulSoup(r.content,'html.parser')\n",
    "        \n",
    "        rows=soup.find_all('div',attrs={'class':\"col _2wzgFH K0kLPL\"})\n",
    "        \n",
    "        for row in rows:\n",
    "            sub_row=row.find_all('div',attrs={'class':'row'})\n",
    "            rating=sub_row[0].find('div').text\n",
    "            summary=sub_row[0].find('p').text.strip()\n",
    "            review=sub_row[1].find_all('div')[2].text\n",
    "            reviewed_by=sub_row[3].find('p',attrs={'class':'_2sc7ZR _2V5EHH'}).text\n",
    "            location_row = sub_row[3].find('p',attrs={'class':'_2mcZGG'})\n",
    "            if location_row:\n",
    "                location_row = location_row.find_all('span')\n",
    "                if len(location_row)>=2:\n",
    "                    location = location_row[1].text\n",
    "                    location = \"\".join(location.split(\",\")[1:]).strip()\n",
    "                \n",
    "            date = sub_row[3].find_all('p',attrs={'class':'_2sc7ZR'})[1].text\n",
    "            sub_row_2 = row.find_all('div',attrs={'class':'_1e9_Zu'})[0].find_all('span',attrs={'class':'_3c3Px5'})\n",
    "\n",
    "            upvotes = sub_row_2[0].text\n",
    "            downvotes = sub_row_2[1].text\n",
    "            \n",
    "            upvotes = sub_row_2[0].text\n",
    "            downvotes = sub_row_2[1].text\n",
    "            \n",
    "            dataset.append({'product_id':pid, 'product_title':product_titles[idx], 'rating': rating,\n",
    "                            'summary': summary, 'review': review, 'reviewed_by':reviewed_by, 'location' : location, \n",
    "                            'date' : date, \n",
    "                            'upvotes' : upvotes, 'downvotes' : downvotes})\n",
    "        \n",
    "        \n",
    "        \n",
    "            \n",
    "\n",
    "            \n",
    "            "
   ]
  },
  {
   "cell_type": "code",
   "execution_count": 8,
   "metadata": {},
   "outputs": [
    {
     "data": {
      "text/html": [
       "<div>\n",
       "<style scoped>\n",
       "    .dataframe tbody tr th:only-of-type {\n",
       "        vertical-align: middle;\n",
       "    }\n",
       "\n",
       "    .dataframe tbody tr th {\n",
       "        vertical-align: top;\n",
       "    }\n",
       "\n",
       "    .dataframe thead th {\n",
       "        text-align: right;\n",
       "    }\n",
       "</style>\n",
       "<table border=\"1\" class=\"dataframe\">\n",
       "  <thead>\n",
       "    <tr style=\"text-align: right;\">\n",
       "      <th></th>\n",
       "      <th>product_id</th>\n",
       "      <th>product_title</th>\n",
       "      <th>rating</th>\n",
       "      <th>summary</th>\n",
       "      <th>review</th>\n",
       "      <th>reviewed_by</th>\n",
       "      <th>location</th>\n",
       "      <th>date</th>\n",
       "      <th>upvotes</th>\n",
       "      <th>downvotes</th>\n",
       "    </tr>\n",
       "  </thead>\n",
       "  <tbody>\n",
       "    <tr>\n",
       "      <th>0</th>\n",
       "      <td>MOBGHWFHHURZWVKE</td>\n",
       "      <td>APPLE iPhone 14 Pro Max (Silver, 1 TB)</td>\n",
       "      <td>5</td>\n",
       "      <td>Just wow!</td>\n",
       "      <td>Finally after long wait I got my 512 GB IPhone 14 Pro Max, Deep Purple Colour. Superb Camera quality. Looks Premium. Upgraded from IPhone XR. Battery backup is nice. Thank you Flipkart for timely delivery.</td>\n",
       "      <td>Sandhya Rani Mohapatra</td>\n",
       "      <td>Bhubaneswar</td>\n",
       "      <td>3 months ago</td>\n",
       "      <td>7591</td>\n",
       "      <td>802</td>\n",
       "    </tr>\n",
       "    <tr>\n",
       "      <th>1</th>\n",
       "      <td>MOBGHWFHHURZWVKE</td>\n",
       "      <td>APPLE iPhone 14 Pro Max (Silver, 1 TB)</td>\n",
       "      <td>5</td>\n",
       "      <td>Terrific purchase</td>\n",
       "      <td>Madly in love with the phone performance is blazing fast I love the pro motion display and dynamic island works as advertised I am in love with that feature 😍 I would like to thank Flipkart for organising the stock for me and delivering my phone on time before the delivery date</td>\n",
       "      <td>Jeevan Batla</td>\n",
       "      <td>Mumbai</td>\n",
       "      <td>3 months ago</td>\n",
       "      <td>4074</td>\n",
       "      <td>636</td>\n",
       "    </tr>\n",
       "    <tr>\n",
       "      <th>2</th>\n",
       "      <td>MOBGHWFHHURZWVKE</td>\n",
       "      <td>APPLE iPhone 14 Pro Max (Silver, 1 TB)</td>\n",
       "      <td>5</td>\n",
       "      <td>Great product</td>\n",
       "      <td>One of the best Smartphone you can buy right now.Let's start with the Pros of the phone:-Dynamic Island is a joy-Always-on screen is gorgeous-Exquisitely premium design-Beautiful 120Hz display-Incredible 48+12+12+12 MP camera system-Blistering performance-Outstanding battery life-Robust iOS 16 softwareNow let's talk a little about the Cons:-One of the heaviest phones you can buy-Expensive</td>\n",
       "      <td>Priyam Gupta</td>\n",
       "      <td>Kanpur</td>\n",
       "      <td>3 months ago</td>\n",
       "      <td>3237</td>\n",
       "      <td>532</td>\n",
       "    </tr>\n",
       "    <tr>\n",
       "      <th>3</th>\n",
       "      <td>MOBGHWFHHURZWVKE</td>\n",
       "      <td>APPLE iPhone 14 Pro Max (Silver, 1 TB)</td>\n",
       "      <td>4</td>\n",
       "      <td>Very Good</td>\n",
       "      <td>I think there is much hype created for the camera and the dynamic island. If I talk about camera, I have gotten better images with iPhone 13 in comparison to iPhone 14 Pro Max. Design and build is damn good for sure. Display is crisp and clear. Feels premium when you hold it. But it is heavy, so could feel a lot of weight in your hands. Sound is great with the onboard speakers. It is loud and clear. However if you want to feel bass do use a headphone or AirPods.</td>\n",
       "      <td>Abhishek Pushker</td>\n",
       "      <td>Ghaziabad</td>\n",
       "      <td>2 months ago</td>\n",
       "      <td>88</td>\n",
       "      <td>31</td>\n",
       "    </tr>\n",
       "    <tr>\n",
       "      <th>4</th>\n",
       "      <td>MOBGHWFHHURZWVKE</td>\n",
       "      <td>APPLE iPhone 14 Pro Max (Silver, 1 TB)</td>\n",
       "      <td>5</td>\n",
       "      <td>Super!</td>\n",
       "      <td>I purchased iphone first time. I loved the camera quality. But I would ask apple to please provide a feature guide. So we know how to utilize iphone fully and feel like it's worth paying lacs of rupees.</td>\n",
       "      <td>Sumit Uttam</td>\n",
       "      <td>Kanpur</td>\n",
       "      <td>2 months ago</td>\n",
       "      <td>19</td>\n",
       "      <td>4</td>\n",
       "    </tr>\n",
       "  </tbody>\n",
       "</table>\n",
       "</div>"
      ],
      "text/plain": [
       "         product_id                           product_title rating  \\\n",
       "0  MOBGHWFHHURZWVKE  APPLE iPhone 14 Pro Max (Silver, 1 TB)  5       \n",
       "1  MOBGHWFHHURZWVKE  APPLE iPhone 14 Pro Max (Silver, 1 TB)  5       \n",
       "2  MOBGHWFHHURZWVKE  APPLE iPhone 14 Pro Max (Silver, 1 TB)  5       \n",
       "3  MOBGHWFHHURZWVKE  APPLE iPhone 14 Pro Max (Silver, 1 TB)  4       \n",
       "4  MOBGHWFHHURZWVKE  APPLE iPhone 14 Pro Max (Silver, 1 TB)  5       \n",
       "\n",
       "             summary  \\\n",
       "0  Just wow!           \n",
       "1  Terrific purchase   \n",
       "2  Great product       \n",
       "3  Very Good           \n",
       "4  Super!              \n",
       "\n",
       "                                                                                                                                                                                                                                                                                                                                                                                                                                                                               review  \\\n",
       "0  Finally after long wait I got my 512 GB IPhone 14 Pro Max, Deep Purple Colour. Superb Camera quality. Looks Premium. Upgraded from IPhone XR. Battery backup is nice. Thank you Flipkart for timely delivery.                                                                                                                                                                                                                                                                        \n",
       "1  Madly in love with the phone performance is blazing fast I love the pro motion display and dynamic island works as advertised I am in love with that feature 😍 I would like to thank Flipkart for organising the stock for me and delivering my phone on time before the delivery date                                                                                                                                                                                               \n",
       "2  One of the best Smartphone you can buy right now.Let's start with the Pros of the phone:-Dynamic Island is a joy-Always-on screen is gorgeous-Exquisitely premium design-Beautiful 120Hz display-Incredible 48+12+12+12 MP camera system-Blistering performance-Outstanding battery life-Robust iOS 16 softwareNow let's talk a little about the Cons:-One of the heaviest phones you can buy-Expensive                                                                              \n",
       "3  I think there is much hype created for the camera and the dynamic island. If I talk about camera, I have gotten better images with iPhone 13 in comparison to iPhone 14 Pro Max. Design and build is damn good for sure. Display is crisp and clear. Feels premium when you hold it. But it is heavy, so could feel a lot of weight in your hands. Sound is great with the onboard speakers. It is loud and clear. However if you want to feel bass do use a headphone or AirPods.   \n",
       "4  I purchased iphone first time. I loved the camera quality. But I would ask apple to please provide a feature guide. So we know how to utilize iphone fully and feel like it's worth paying lacs of rupees.                                                                                                                                                                                                                                                                           \n",
       "\n",
       "              reviewed_by     location          date upvotes downvotes  \n",
       "0  Sandhya Rani Mohapatra  Bhubaneswar  3 months ago  7591    802       \n",
       "1  Jeevan Batla            Mumbai       3 months ago  4074    636       \n",
       "2  Priyam Gupta            Kanpur       3 months ago  3237    532       \n",
       "3  Abhishek Pushker        Ghaziabad    2 months ago  88      31        \n",
       "4  Sumit Uttam             Kanpur       2 months ago  19      4         "
      ]
     },
     "metadata": {},
     "output_type": "display_data"
    },
    {
     "data": {
      "text/html": [
       "<div>\n",
       "<style scoped>\n",
       "    .dataframe tbody tr th:only-of-type {\n",
       "        vertical-align: middle;\n",
       "    }\n",
       "\n",
       "    .dataframe tbody tr th {\n",
       "        vertical-align: top;\n",
       "    }\n",
       "\n",
       "    .dataframe thead th {\n",
       "        text-align: right;\n",
       "    }\n",
       "</style>\n",
       "<table border=\"1\" class=\"dataframe\">\n",
       "  <thead>\n",
       "    <tr style=\"text-align: right;\">\n",
       "      <th></th>\n",
       "      <th>product_id</th>\n",
       "      <th>product_title</th>\n",
       "      <th>rating</th>\n",
       "      <th>summary</th>\n",
       "      <th>review</th>\n",
       "      <th>reviewed_by</th>\n",
       "      <th>location</th>\n",
       "      <th>date</th>\n",
       "      <th>upvotes</th>\n",
       "      <th>downvotes</th>\n",
       "    </tr>\n",
       "  </thead>\n",
       "  <tbody>\n",
       "    <tr>\n",
       "      <th>257</th>\n",
       "      <td>MOBGHWFHEUDJH7TG</td>\n",
       "      <td>APPLE iPhone 14 Pro (Deep Purple, 1 TB)</td>\n",
       "      <td>5</td>\n",
       "      <td>Must buy!</td>\n",
       "      <td>Nice phone</td>\n",
       "      <td>MANJEET SINGH</td>\n",
       "      <td>Bengaluru</td>\n",
       "      <td>28 days ago</td>\n",
       "      <td>1</td>\n",
       "      <td>1</td>\n",
       "    </tr>\n",
       "    <tr>\n",
       "      <th>258</th>\n",
       "      <td>MOBGHWFHEUDJH7TG</td>\n",
       "      <td>APPLE iPhone 14 Pro (Deep Purple, 1 TB)</td>\n",
       "      <td>2</td>\n",
       "      <td>Could be way better</td>\n",
       "      <td>Camera is very poor</td>\n",
       "      <td>Rohit Kushwaha</td>\n",
       "      <td>Bhiwadi</td>\n",
       "      <td>3 months ago</td>\n",
       "      <td>15</td>\n",
       "      <td>96</td>\n",
       "    </tr>\n",
       "    <tr>\n",
       "      <th>259</th>\n",
       "      <td>MOBGHWFHEUDJH7TG</td>\n",
       "      <td>APPLE iPhone 14 Pro (Deep Purple, 1 TB)</td>\n",
       "      <td>1</td>\n",
       "      <td>Absolute rubbish!</td>\n",
       "      <td>Very bed</td>\n",
       "      <td>Mahesh kumar Kumar</td>\n",
       "      <td>Samalkha</td>\n",
       "      <td>1 month ago</td>\n",
       "      <td>5</td>\n",
       "      <td>25</td>\n",
       "    </tr>\n",
       "    <tr>\n",
       "      <th>260</th>\n",
       "      <td>MOBGHWFHEUDJH7TG</td>\n",
       "      <td>APPLE iPhone 14 Pro (Deep Purple, 1 TB)</td>\n",
       "      <td>1</td>\n",
       "      <td>Not recommended at all</td>\n",
       "      <td>Wrost product facing many issues.</td>\n",
       "      <td>Gaurav Sonal</td>\n",
       "      <td>Patna</td>\n",
       "      <td>1 month ago</td>\n",
       "      <td>3</td>\n",
       "      <td>22</td>\n",
       "    </tr>\n",
       "    <tr>\n",
       "      <th>261</th>\n",
       "      <td>MOBGHWFHEUDJH7TG</td>\n",
       "      <td>APPLE iPhone 14 Pro (Deep Purple, 1 TB)</td>\n",
       "      <td>5</td>\n",
       "      <td>Wonderful</td>\n",
       "      <td>My first pro model, upgraded from 12. Thank you flipkart for the discount price compared to shops.</td>\n",
       "      <td>Vishnu T das</td>\n",
       "      <td>Thrissur</td>\n",
       "      <td>Today</td>\n",
       "      <td>0</td>\n",
       "      <td>0</td>\n",
       "    </tr>\n",
       "  </tbody>\n",
       "</table>\n",
       "</div>"
      ],
      "text/plain": [
       "           product_id                            product_title rating  \\\n",
       "257  MOBGHWFHEUDJH7TG  APPLE iPhone 14 Pro (Deep Purple, 1 TB)  5       \n",
       "258  MOBGHWFHEUDJH7TG  APPLE iPhone 14 Pro (Deep Purple, 1 TB)  2       \n",
       "259  MOBGHWFHEUDJH7TG  APPLE iPhone 14 Pro (Deep Purple, 1 TB)  1       \n",
       "260  MOBGHWFHEUDJH7TG  APPLE iPhone 14 Pro (Deep Purple, 1 TB)  1       \n",
       "261  MOBGHWFHEUDJH7TG  APPLE iPhone 14 Pro (Deep Purple, 1 TB)  5       \n",
       "\n",
       "                    summary  \\\n",
       "257  Must buy!                \n",
       "258  Could be way better      \n",
       "259  Absolute rubbish!        \n",
       "260  Not recommended at all   \n",
       "261  Wonderful                \n",
       "\n",
       "                                                                                                 review  \\\n",
       "257  Nice phone                                                                                           \n",
       "258  Camera is very poor                                                                                  \n",
       "259  Very bed                                                                                             \n",
       "260  Wrost product facing many issues.                                                                    \n",
       "261  My first pro model, upgraded from 12. Thank you flipkart for the discount price compared to shops.   \n",
       "\n",
       "            reviewed_by   location          date upvotes downvotes  \n",
       "257  MANJEET SINGH       Bengaluru  28 days ago   1       1         \n",
       "258  Rohit Kushwaha      Bhiwadi    3 months ago  15      96        \n",
       "259  Mahesh kumar Kumar  Samalkha   1 month ago   5       25        \n",
       "260  Gaurav Sonal        Patna      1 month ago   3       22        \n",
       "261  Vishnu T das        Thrissur   Today         0       0         "
      ]
     },
     "metadata": {},
     "output_type": "display_data"
    }
   ],
   "source": [
    "df = pd.DataFrame(dataset)\n",
    "\n",
    "with pd.option_context('display.max_colwidth', -1):\n",
    "    display(df.head(5))\n",
    "    display(df.tail(5))"
   ]
  },
  {
   "cell_type": "code",
   "execution_count": null,
   "metadata": {},
   "outputs": [],
   "source": []
  }
 ],
 "metadata": {
  "kernelspec": {
   "display_name": "Python 3 (ipykernel)",
   "language": "python",
   "name": "python3"
  },
  "language_info": {
   "codemirror_mode": {
    "name": "ipython",
    "version": 3
   },
   "file_extension": ".py",
   "mimetype": "text/x-python",
   "name": "python",
   "nbconvert_exporter": "python",
   "pygments_lexer": "ipython3",
   "version": "3.8.9"
  }
 },
 "nbformat": 4,
 "nbformat_minor": 2
}
